{
  "cells": [
    {
      "cell_type": "markdown",
      "metadata": {},
      "source": "Inference for a simple model with ONNX Runtime\n========================================\n\nThis example demonstrates how to load a model and compute\nthe output for an input vector. It also shows how to\nretrieve the definition of its inputs and outputs.\n\n"
    },
    {
      "cell_type": "code",
      "execution_count": null,
      "metadata": {
        "trusted": true
      },
      "outputs": [],
      "source": "import onnxruntime\nimport numpy as np\nfrom onnxruntime.datasets import get_example"
    },
    {
      "cell_type": "markdown",
      "metadata": {},
      "source": "Let's load a very simple ONNX model.\nThe model is available on as a [test case for the sigmoid operator on Github](https://github.com/onnx/onnx/tree/master/onnx/backend/test/data/node/test_sigmoid).\n"
    },
    {
      "cell_type": "code",
      "execution_count": null,
      "metadata": {
        "trusted": true
      },
      "outputs": [],
      "source": [
        "# Start from ORT 1.10, ORT requires explicitly setting the providers parameter if you want to use execution providers\n",
        "# other than the default CPU provider (as opposed to the previous behavior of providers getting set/registered by default\n",
        "# based on the build flags) when instantiating InferenceSession.\n",
        "# Following code assumes NVIDIA GPU is available and ORT Python package is built with CUDA. You can specify\n",
        "# other execution providers or don't include providers parameter to use default CPU provider.\n",
        "example_model = get_example(\"sigmoid.onnx\")\nsess = onnxruntime.InferenceSession(example_model, providers=['CUDAExecutionProvider'])"
      ]
    },
    {
      "cell_type": "markdown",
      "metadata": {},
      "source": "Let's identify our input name and shape."
    },
    {
      "cell_type": "code",
      "execution_count": null,
      "metadata": {
        "trusted": true
      },
      "outputs": [],
      "source": "input_name = sess.get_inputs()[0].name\nprint(\"Input name  :\", input_name)\ninput_shape = sess.get_inputs()[0].shape\nprint(\"Input shape :\", input_shape)\ninput_type = sess.get_inputs()[0].type\nprint(\"Input type  :\", input_type)"
    },
    {
      "cell_type": "markdown",
      "metadata": {},
      "source": "Let's identify our output name and shape."
    },
    {
      "cell_type": "code",
      "execution_count": null,
      "metadata": {
        "trusted": true
      },
      "outputs": [],
      "source": "output_name = sess.get_outputs()[0].name\nprint(\"Output name  :\", output_name)  \noutput_shape = sess.get_outputs()[0].shape\nprint(\"Output shape :\", output_shape)\noutput_type = sess.get_outputs()[0].type\nprint(\"Output type  :\", output_type)"
    },
    {
      "cell_type": "markdown",
      "metadata": {},
      "source": "### Model prediction using ONNX Runtime\n\nNow that we've loaded our model, let's pass in some input and compute our predictions."
    },
    {
      "cell_type": "code",
      "execution_count": null,
      "metadata": {
        "trusted": true
      },
      "outputs": [],
      "source": "x = np.random.random(input_shape)\nx = x.astype(np.float32)"
    },
    {
      "cell_type": "code",
      "execution_count": null,
      "metadata": {
        "trusted": true
      },
      "outputs": [],
      "source": "%%time\nresult = sess.run([output_name], {input_name: x})"
    },
    {
      "cell_type": "code",
      "execution_count": null,
      "metadata": {
        "trusted": true
      },
      "outputs": [],
      "source": "result"
    }
  ],
  "metadata": {
    "kernelspec": {
      "display_name": "Python 3",
      "language": "python",
      "name": "python3"
    },
    "language_info": {
      "codemirror_mode": {
        "name": "ipython",
        "version": 3
      },
      "file_extension": ".py",
      "mimetype": "text/x-python",
      "name": "python",
      "nbconvert_exporter": "python",
      "pygments_lexer": "ipython3",
      "version": "3.6.5"
    }
  },
  "nbformat": 4,
  "nbformat_minor": 1
}
